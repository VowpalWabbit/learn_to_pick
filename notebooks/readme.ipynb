{
 "cells": [
  {
   "cell_type": "code",
   "execution_count": null,
   "metadata": {},
   "outputs": [],
   "source": [
    "# ! pip install ../\n",
    "# ! pip install matplotlib"
   ]
  },
  {
   "cell_type": "markdown",
   "metadata": {},
   "source": [
    "all examples from README"
   ]
  },
  {
   "cell_type": "code",
   "execution_count": null,
   "metadata": {},
   "outputs": [],
   "source": [
    "import learn_to_pick"
   ]
  },
  {
   "cell_type": "code",
   "execution_count": null,
   "metadata": {},
   "outputs": [],
   "source": [
    "from learn_to_pick import PickBest\n",
    "\n",
    "# with an llm scorer\n",
    "\n",
    "class fake_llm:\n",
    "    def predict(self, inputs):\n",
    "        print(f\"here are the inputs: {inputs}\")\n",
    "        dummy_score = 1\n",
    "        return dummy_score\n",
    "\n",
    "picker = PickBest.create(llm=fake_llm())\n",
    "result = picker.run(pick = learn_to_pick.ToSelectFrom([\"option1\", \"option2\"]),\n",
    "                    criteria = learn_to_pick.BasedOn(\"some criteria\")\n",
    ")\n",
    "\n",
    "print(result[\"picked\"])"
   ]
  },
  {
   "cell_type": "code",
   "execution_count": null,
   "metadata": {},
   "outputs": [],
   "source": [
    "from learn_to_pick import PickBest\n",
    "\n",
    "# with a custom scorer\n",
    "\n",
    "class CustomSelectionScorer(learn_to_pick.SelectionScorer):\n",
    "    def score_response(self, inputs, picked, event) -> float:\n",
    "        print(f\"inputs: {inputs}\")\n",
    "        pick = picked[\"pick\"]\n",
    "        criteria = event.based_on[\"criteria\"]\n",
    "        # evaluate pick based on criteria\n",
    "        dummy_score = 1\n",
    "        return dummy_score\n",
    "\n",
    "picker = PickBest.create(selection_scorer=CustomSelectionScorer())\n",
    "result = picker.run(pick = learn_to_pick.ToSelectFrom([\"option1\", \"option2\"]),\n",
    "                    criteria = learn_to_pick.BasedOn(\"some criteria\")\n",
    ")\n",
    "\n",
    "print(result[\"picked\"])"
   ]
  },
  {
   "cell_type": "code",
   "execution_count": null,
   "metadata": {},
   "outputs": [],
   "source": [
    "from learn_to_pick import PickBest\n",
    "\n",
    "# with delayed score\n",
    "\n",
    "picker = PickBest.create(selection_scorer=None)\n",
    "result = picker.run(pick = learn_to_pick.ToSelectFrom([\"option1\", \"option2\"]),\n",
    "                    criteria = learn_to_pick.BasedOn(\"some criteria\")\n",
    ")\n",
    "\n",
    "print(result[\"picked\"])\n",
    "\n",
    "# evaluated the result asynchronusly in a different part of my system and determined a score\n",
    "dummy_score = 1\n",
    "picker.update_with_delayed_score(dummy_score, result)"
   ]
  },
  {
   "cell_type": "code",
   "execution_count": null,
   "metadata": {},
   "outputs": [],
   "source": [
    "class fake_llm:\n",
    "    def predict(self, *args):\n",
    "        return \"5\"\n",
    "\n",
    "scoring_criteria_template = \"Given {criteria} rank how good or bad this selection is {pick}\"\n",
    "picker = learn_to_pick.PickBest.create(\n",
    "    selection_scorer=learn_to_pick.AutoSelectionScorer(llm=fake_llm(), scoring_criteria_template_str=scoring_criteria_template),\n",
    ")\n",
    "\n",
    "result = picker.run(pick = learn_to_pick.ToSelectFrom([\"option1\", \"option2\"]),\n",
    "                    criteria = learn_to_pick.BasedOn(\"some criteria\")\n",
    ")\n",
    "\n",
    "print(result[\"picked\"])"
   ]
  },
  {
   "cell_type": "code",
   "execution_count": null,
   "metadata": {},
   "outputs": [],
   "source": [
    "# I want the score to be in the range [-1, 1] instead of the default [0, 1]\n",
    "\n",
    "REWARD_PROMPT = \"\"\"\n",
    "\n",
    "Given {criteria} rank how good or bad this selection is {pick}\n",
    "\n",
    "IMPORANT: you MUST return a single number between -1 and 1, -1 being bad, 1 being good\n",
    "\n",
    "\"\"\"\n",
    "picker = learn_to_pick.PickBest.create(\n",
    "    selection_scorer=learn_to_pick.AutoSelectionScorer(llm=fake_llm(), prompt=REWARD_PROMPT)\n",
    ")\n",
    "\n",
    "result = picker.run(pick = learn_to_pick.ToSelectFrom([\"option1\", \"option2\"]),\n",
    "                    criteria = learn_to_pick.BasedOn(\"some criteria\")\n",
    ")\n",
    "\n",
    "print(result[\"picked\"])"
   ]
  },
  {
   "cell_type": "code",
   "execution_count": null,
   "metadata": {},
   "outputs": [],
   "source": [
    "class CustomSelectionScorer(learn_to_pick.SelectionScorer):\n",
    "    def score_response(self, inputs, picked, event: learn_to_pick.PickBestEvent) -> float:\n",
    "        # inputs: the inputs to the picker in Dict[str, Any] format\n",
    "        # picked: the selection that was made by the policy\n",
    "        # event: metadata that can be used to determine the score if needed\n",
    "        \n",
    "        # scoring logic goes here\n",
    "\n",
    "        dummy_score = 1.0\n",
    "        return dummy_score\n",
    "\n",
    "\n",
    "picker = learn_to_pick.PickBest.create(\n",
    "    selection_scorer=CustomSelectionScorer()\n",
    ")\n",
    "\n",
    "result = picker.run(pick = learn_to_pick.ToSelectFrom([\"option1\", \"option2\"]),\n",
    "                    criteria = learn_to_pick.BasedOn(\"some criteria\")\n",
    ")\n",
    "\n",
    "print(result[\"picked_metadata\"].selected.score)"
   ]
  },
  {
   "cell_type": "code",
   "execution_count": null,
   "metadata": {},
   "outputs": [],
   "source": [
    "def a_function(inputs, picked, event):\n",
    "    # I want to set the score here for some reason instead of defining a scorer\n",
    "    print(\"hello world\")\n",
    "    event.selected.score = 5.0\n",
    "    return inputs, event\n",
    "\n",
    "picker = learn_to_pick.PickBest.create(\n",
    "    callbacks_before_scoring = [a_function],\n",
    "    selection_scorer=None\n",
    ")\n",
    "\n",
    "result = picker.run(pick = learn_to_pick.ToSelectFrom([\"option1\", \"option2\"]),\n",
    "                    criteria = learn_to_pick.BasedOn(\"some criteria\")\n",
    ")\n",
    "\n",
    "print(result[\"picked_metadata\"].selected.score)"
   ]
  },
  {
   "cell_type": "code",
   "execution_count": null,
   "metadata": {},
   "outputs": [],
   "source": [
    "picker.save_progress()"
   ]
  },
  {
   "cell_type": "code",
   "execution_count": null,
   "metadata": {},
   "outputs": [],
   "source": [
    "picker = learn_to_pick.PickBest.create(\n",
    "    callbacks_before_scoring = [a_function],\n",
    "    selection_scorer=None\n",
    ")"
   ]
  },
  {
   "cell_type": "code",
   "execution_count": null,
   "metadata": {},
   "outputs": [],
   "source": [
    "picker = learn_to_pick.PickBest.create(model_save_dir='./models', selection_scorer=None)\n",
    "picker.save_progress()\n",
    "picker = learn_to_pick.PickBest.create(model_save_dir='./models', selection_scorer=None)"
   ]
  },
  {
   "cell_type": "code",
   "execution_count": null,
   "metadata": {},
   "outputs": [],
   "source": [
    "class CustomSelectionScorer(learn_to_pick.SelectionScorer):\n",
    "    def score_response(self, inputs, picked, event: learn_to_pick.PickBestEvent) -> float:\n",
    "        # inputs: the inputs to the picker in Dict[str, Any] format\n",
    "        # picked: the selection that was made by the policy\n",
    "        # event: metadata that can be used to determine the score if needed\n",
    "        \n",
    "        # scoring logic goes here\n",
    "\n",
    "        dummy_score = 1.0\n",
    "        return dummy_score\n",
    "\n",
    "\n",
    "picker = learn_to_pick.PickBest.create(\n",
    "    selection_scorer=CustomSelectionScorer()\n",
    ")\n",
    "\n",
    "result = picker.run(pick = learn_to_pick.ToSelectFrom([\"option1\", \"option2\"]),\n",
    "                    criteria = learn_to_pick.BasedOn(\"some criteria\")\n",
    ")\n",
    "\n",
    "print(result[\"picked_metadata\"].selected.score)\n",
    "\n",
    "picker.deactivate_selection_scorer()\n",
    "result = picker.run(pick = learn_to_pick.ToSelectFrom([\"option1\", \"option2\"]),\n",
    "                    criteria = learn_to_pick.BasedOn(\"some criteria\")\n",
    ")\n",
    "\n",
    "print(result[\"picked_metadata\"].selected.score)\n",
    "picker.activate_selection_scorer()\n",
    "result = picker.run(pick = learn_to_pick.ToSelectFrom([\"option1\", \"option2\"]),\n",
    "                    criteria = learn_to_pick.BasedOn(\"some criteria\")\n",
    ")\n",
    "\n",
    "print(result[\"picked_metadata\"].selected.score)\n"
   ]
  },
  {
   "cell_type": "code",
   "execution_count": null,
   "metadata": {},
   "outputs": [],
   "source": [
    "vw_cmd = [\"--cb_explore_adf\", \"--squarecb\", \"--interactions=::\"]\n",
    "\n",
    "picker = learn_to_pick.PickBest.create(vw_cmd=vw_cmd, selection_scorer=None)\n",
    "\n",
    "result = picker.run(pick = learn_to_pick.ToSelectFrom([\"option1\", \"option2\"]),\n",
    "                    criteria = learn_to_pick.BasedOn(\"some criteria\")\n",
    ")\n",
    "\n",
    "print(result[\"picked\"])"
   ]
  },
  {
   "cell_type": "code",
   "execution_count": null,
   "metadata": {},
   "outputs": [],
   "source": [
    "picker = learn_to_pick.PickBest.create(vw_logs='./logs', selection_scorer=None)"
   ]
  },
  {
   "cell_type": "code",
   "execution_count": null,
   "metadata": {},
   "outputs": [],
   "source": [
    "result = picker.run(pick = learn_to_pick.ToSelectFrom([\"option1\", \"option2\"]),\n",
    "                    criteria = learn_to_pick.BasedOn(\"some criteria\")\n",
    ")\n",
    "\n",
    "print(result[\"picked\"])"
   ]
  },
  {
   "cell_type": "code",
   "execution_count": null,
   "metadata": {},
   "outputs": [],
   "source": [
    "picker = learn_to_pick.PickBest.create(vw_logs='./logs', selection_scorer=None, feature_embedder=learn_to_pick.PickBestFeatureEmbedder(auto_embed=True))\n",
    "result = picker.run(pick = learn_to_pick.ToSelectFrom([\"option1\", \"option2\"]),\n",
    "                    criteria = learn_to_pick.BasedOn(\"age:32\")\n",
    ")\n",
    "\n",
    "result = picker.run(pick = learn_to_pick.ToSelectFrom([\n",
    "                        [\"meal 1 name\", \"meal 1 description\"],\n",
    "                        [\"meal 2 name\", \"meal 2 description\"]\n",
    "                    ]),\n",
    "                    criteria = learn_to_pick.BasedOn(\"age:32\")\n",
    ")\n",
    "\n",
    "result = picker.run(pick = learn_to_pick.ToSelectFrom([\n",
    "                        {\"name\":\"meal 1 name\", \"description\" : \"meal 1 description\"},\n",
    "                        {\"name\":\"meal 2 name\", \"description\" : \"meal 2 description\"}\n",
    "                    ]),\n",
    "                    criteria = learn_to_pick.BasedOn(\"age:32\")\n",
    ")\n",
    "\n",
    "result = picker.run(pick = learn_to_pick.ToSelectFrom([\n",
    "                    {\"name\":[\"meal 1\", \"complex name\"], \"description\" : \"meal 1 description\"},\n",
    "                    {\"name\":[\"meal 2\", \"complex name\"], \"description\" : \"meal 2 description\"}\n",
    "                ]),\n",
    "                criteria = learn_to_pick.BasedOn([\"Tom Joe\", \"age:32\", \"state of california\"])\n",
    ")"
   ]
  },
  {
   "cell_type": "code",
   "execution_count": null,
   "metadata": {},
   "outputs": [],
   "source": [
    "from sentence_transformers import SentenceTransformer\n",
    "\n",
    "picker = learn_to_pick.PickBest.create(\n",
    "    feature_embedder=learn_to_pick.PickBestFeatureEmbedder(\n",
    "        auto_embed=True,\n",
    "        model=SentenceTransformer(\"multi-qa-mpnet-base-dot-v1\")\n",
    "    ),\n",
    "    vw_logs='./logs',\n",
    "    selection_scorer=None\n",
    ")\n",
    "\n",
    "result = picker.run(pick = learn_to_pick.ToSelectFrom([\n",
    "                    {\"name\":[\"meal 1\", \"complex name\"], \"description\" : \"meal 1 description\"},\n",
    "                    {\"name\":[\"meal 2\", \"complex name\"], \"description\" : \"meal 2 description\"}\n",
    "                ]),\n",
    "                criteria = learn_to_pick.BasedOn([\"Tom Joe\", \"age:32\", \"state of california\"])\n",
    ")"
   ]
  },
  {
   "cell_type": "code",
   "execution_count": null,
   "metadata": {},
   "outputs": [],
   "source": [
    "picker = learn_to_pick.PickBest.create(\n",
    "    feature_embedder=learn_to_pick.PickBestFeatureEmbedder(\n",
    "        auto_embed=False,\n",
    "    ),\n",
    "    vw_logs='./logs',\n",
    "    selection_scorer=None\n",
    ")\n",
    "\n",
    "result = picker.run(pick = learn_to_pick.ToSelectFrom([\n",
    "                    {\"name\":[\"meal 1\", \"complex name\"], \"description\" : \"meal 1 description\"},\n",
    "                    {\"name\":[\"meal 2\", \"complex name\"], \"description\" : \"meal 2 description\"}\n",
    "                ]),\n",
    "                criteria = learn_to_pick.Embed(learn_to_pick.BasedOn([\"Tom Joe\", \"age:32\", \"state of california\"]))\n",
    ")"
   ]
  }
 ],
 "metadata": {
  "kernelspec": {
   "display_name": ".venv",
   "language": "python",
   "name": "python3"
  },
  "language_info": {
   "codemirror_mode": {
    "name": "ipython",
    "version": 3
   },
   "file_extension": ".py",
   "mimetype": "text/x-python",
   "name": "python",
   "nbconvert_exporter": "python",
   "pygments_lexer": "ipython3",
   "version": "3.9.5"
  }
 },
 "nbformat": 4,
 "nbformat_minor": 2
}
