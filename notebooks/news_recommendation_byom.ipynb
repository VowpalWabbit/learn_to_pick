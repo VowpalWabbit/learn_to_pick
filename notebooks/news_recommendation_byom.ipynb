{
 "cells": [
  {
   "cell_type": "code",
   "execution_count": 10,
   "metadata": {},
   "outputs": [
    {
     "name": "stdout",
     "output_type": "stream",
     "text": [
      "The autoreload extension is already loaded. To reload it, use:\n",
      "  %reload_ext autoreload\n"
     ]
    }
   ],
   "source": [
    "%load_ext autoreload\n",
    "%autoreload 2"
   ]
  },
  {
   "cell_type": "code",
   "execution_count": 11,
   "metadata": {},
   "outputs": [
    {
     "name": "stderr",
     "output_type": "stream",
     "text": [
      "huggingface/tokenizers: The current process just got forked, after parallelism has already been used. Disabling parallelism to avoid deadlocks...\n",
      "To disable this warning, you can either:\n",
      "\t- Avoid using `tokenizers` before the fork if possible\n",
      "\t- Explicitly set the environment variable TOKENIZERS_PARALLELISM=(true | false)\n"
     ]
    },
    {
     "name": "stdout",
     "output_type": "stream",
     "text": [
      "Processing /home/chetan/dev/learn_to_pick\n",
      "  Preparing metadata (setup.py) ... \u001b[?25ldone\n",
      "\u001b[?25hRequirement already satisfied: numpy>=1.24.4 in /anaconda/envs/learn_to_pick/lib/python3.10/site-packages (from learn-to-pick==0.0.3) (1.26.1)\n",
      "Requirement already satisfied: pandas>=2.0.3 in /anaconda/envs/learn_to_pick/lib/python3.10/site-packages (from learn-to-pick==0.0.3) (2.1.1)\n",
      "Requirement already satisfied: vowpal-wabbit-next==0.7.0 in /anaconda/envs/learn_to_pick/lib/python3.10/site-packages (from learn-to-pick==0.0.3) (0.7.0)\n",
      "Requirement already satisfied: sentence-transformers>=2.2.2 in /anaconda/envs/learn_to_pick/lib/python3.10/site-packages (from learn-to-pick==0.0.3) (2.2.2)\n",
      "Requirement already satisfied: torch in /anaconda/envs/learn_to_pick/lib/python3.10/site-packages (from learn-to-pick==0.0.3) (2.0.1)\n",
      "Requirement already satisfied: pyskiplist in /anaconda/envs/learn_to_pick/lib/python3.10/site-packages (from learn-to-pick==0.0.3) (1.0.0)\n",
      "Requirement already satisfied: parameterfree in /anaconda/envs/learn_to_pick/lib/python3.10/site-packages (from learn-to-pick==0.0.3) (0.0.1)\n",
      "Requirement already satisfied: python-dateutil>=2.8.2 in /anaconda/envs/learn_to_pick/lib/python3.10/site-packages (from pandas>=2.0.3->learn-to-pick==0.0.3) (2.8.2)\n",
      "Requirement already satisfied: pytz>=2020.1 in /anaconda/envs/learn_to_pick/lib/python3.10/site-packages (from pandas>=2.0.3->learn-to-pick==0.0.3) (2023.3.post1)\n",
      "Requirement already satisfied: tzdata>=2022.1 in /anaconda/envs/learn_to_pick/lib/python3.10/site-packages (from pandas>=2.0.3->learn-to-pick==0.0.3) (2023.3)\n",
      "Requirement already satisfied: transformers<5.0.0,>=4.6.0 in /anaconda/envs/learn_to_pick/lib/python3.10/site-packages (from sentence-transformers>=2.2.2->learn-to-pick==0.0.3) (4.34.1)\n",
      "Requirement already satisfied: tqdm in /anaconda/envs/learn_to_pick/lib/python3.10/site-packages (from sentence-transformers>=2.2.2->learn-to-pick==0.0.3) (4.66.1)\n",
      "Requirement already satisfied: torchvision in /anaconda/envs/learn_to_pick/lib/python3.10/site-packages (from sentence-transformers>=2.2.2->learn-to-pick==0.0.3) (0.15.2)\n",
      "Requirement already satisfied: scikit-learn in /anaconda/envs/learn_to_pick/lib/python3.10/site-packages (from sentence-transformers>=2.2.2->learn-to-pick==0.0.3) (1.3.2)\n",
      "Requirement already satisfied: scipy in /anaconda/envs/learn_to_pick/lib/python3.10/site-packages (from sentence-transformers>=2.2.2->learn-to-pick==0.0.3) (1.11.3)\n",
      "Requirement already satisfied: nltk in /anaconda/envs/learn_to_pick/lib/python3.10/site-packages (from sentence-transformers>=2.2.2->learn-to-pick==0.0.3) (3.8.1)\n",
      "Requirement already satisfied: sentencepiece in /anaconda/envs/learn_to_pick/lib/python3.10/site-packages (from sentence-transformers>=2.2.2->learn-to-pick==0.0.3) (0.1.99)\n",
      "Requirement already satisfied: huggingface-hub>=0.4.0 in /anaconda/envs/learn_to_pick/lib/python3.10/site-packages (from sentence-transformers>=2.2.2->learn-to-pick==0.0.3) (0.17.3)\n",
      "Requirement already satisfied: filelock in /anaconda/envs/learn_to_pick/lib/python3.10/site-packages (from torch->learn-to-pick==0.0.3) (3.12.4)\n",
      "Requirement already satisfied: typing-extensions in /anaconda/envs/learn_to_pick/lib/python3.10/site-packages (from torch->learn-to-pick==0.0.3) (4.8.0)\n",
      "Requirement already satisfied: sympy in /anaconda/envs/learn_to_pick/lib/python3.10/site-packages (from torch->learn-to-pick==0.0.3) (1.12)\n",
      "Requirement already satisfied: networkx in /anaconda/envs/learn_to_pick/lib/python3.10/site-packages (from torch->learn-to-pick==0.0.3) (3.2)\n",
      "Requirement already satisfied: jinja2 in /anaconda/envs/learn_to_pick/lib/python3.10/site-packages (from torch->learn-to-pick==0.0.3) (3.1.2)\n",
      "Requirement already satisfied: nvidia-cuda-nvrtc-cu11==11.7.99 in /anaconda/envs/learn_to_pick/lib/python3.10/site-packages (from torch->learn-to-pick==0.0.3) (11.7.99)\n",
      "Requirement already satisfied: nvidia-cuda-runtime-cu11==11.7.99 in /anaconda/envs/learn_to_pick/lib/python3.10/site-packages (from torch->learn-to-pick==0.0.3) (11.7.99)\n",
      "Requirement already satisfied: nvidia-cuda-cupti-cu11==11.7.101 in /anaconda/envs/learn_to_pick/lib/python3.10/site-packages (from torch->learn-to-pick==0.0.3) (11.7.101)\n",
      "Requirement already satisfied: nvidia-cudnn-cu11==8.5.0.96 in /anaconda/envs/learn_to_pick/lib/python3.10/site-packages (from torch->learn-to-pick==0.0.3) (8.5.0.96)\n",
      "Requirement already satisfied: nvidia-cublas-cu11==11.10.3.66 in /anaconda/envs/learn_to_pick/lib/python3.10/site-packages (from torch->learn-to-pick==0.0.3) (11.10.3.66)\n",
      "Requirement already satisfied: nvidia-cufft-cu11==10.9.0.58 in /anaconda/envs/learn_to_pick/lib/python3.10/site-packages (from torch->learn-to-pick==0.0.3) (10.9.0.58)\n",
      "Requirement already satisfied: nvidia-curand-cu11==10.2.10.91 in /anaconda/envs/learn_to_pick/lib/python3.10/site-packages (from torch->learn-to-pick==0.0.3) (10.2.10.91)\n",
      "Requirement already satisfied: nvidia-cusolver-cu11==11.4.0.1 in /anaconda/envs/learn_to_pick/lib/python3.10/site-packages (from torch->learn-to-pick==0.0.3) (11.4.0.1)\n",
      "Requirement already satisfied: nvidia-cusparse-cu11==11.7.4.91 in /anaconda/envs/learn_to_pick/lib/python3.10/site-packages (from torch->learn-to-pick==0.0.3) (11.7.4.91)\n",
      "Requirement already satisfied: nvidia-nccl-cu11==2.14.3 in /anaconda/envs/learn_to_pick/lib/python3.10/site-packages (from torch->learn-to-pick==0.0.3) (2.14.3)\n",
      "Requirement already satisfied: nvidia-nvtx-cu11==11.7.91 in /anaconda/envs/learn_to_pick/lib/python3.10/site-packages (from torch->learn-to-pick==0.0.3) (11.7.91)\n",
      "Requirement already satisfied: triton==2.0.0 in /anaconda/envs/learn_to_pick/lib/python3.10/site-packages (from torch->learn-to-pick==0.0.3) (2.0.0)\n",
      "Requirement already satisfied: setuptools in /anaconda/envs/learn_to_pick/lib/python3.10/site-packages (from nvidia-cublas-cu11==11.10.3.66->torch->learn-to-pick==0.0.3) (68.0.0)\n",
      "Requirement already satisfied: wheel in /anaconda/envs/learn_to_pick/lib/python3.10/site-packages (from nvidia-cublas-cu11==11.10.3.66->torch->learn-to-pick==0.0.3) (0.41.2)\n",
      "Requirement already satisfied: cmake in /anaconda/envs/learn_to_pick/lib/python3.10/site-packages (from triton==2.0.0->torch->learn-to-pick==0.0.3) (3.27.7)\n",
      "Requirement already satisfied: lit in /anaconda/envs/learn_to_pick/lib/python3.10/site-packages (from triton==2.0.0->torch->learn-to-pick==0.0.3) (17.0.4)\n",
      "Requirement already satisfied: fsspec in /anaconda/envs/learn_to_pick/lib/python3.10/site-packages (from huggingface-hub>=0.4.0->sentence-transformers>=2.2.2->learn-to-pick==0.0.3) (2023.10.0)\n",
      "Requirement already satisfied: requests in /anaconda/envs/learn_to_pick/lib/python3.10/site-packages (from huggingface-hub>=0.4.0->sentence-transformers>=2.2.2->learn-to-pick==0.0.3) (2.31.0)\n",
      "Requirement already satisfied: pyyaml>=5.1 in /anaconda/envs/learn_to_pick/lib/python3.10/site-packages (from huggingface-hub>=0.4.0->sentence-transformers>=2.2.2->learn-to-pick==0.0.3) (6.0.1)\n",
      "Requirement already satisfied: packaging>=20.9 in /anaconda/envs/learn_to_pick/lib/python3.10/site-packages (from huggingface-hub>=0.4.0->sentence-transformers>=2.2.2->learn-to-pick==0.0.3) (23.2)\n",
      "Requirement already satisfied: six>=1.5 in /anaconda/envs/learn_to_pick/lib/python3.10/site-packages (from python-dateutil>=2.8.2->pandas>=2.0.3->learn-to-pick==0.0.3) (1.16.0)\n",
      "Requirement already satisfied: regex!=2019.12.17 in /anaconda/envs/learn_to_pick/lib/python3.10/site-packages (from transformers<5.0.0,>=4.6.0->sentence-transformers>=2.2.2->learn-to-pick==0.0.3) (2023.10.3)\n",
      "Requirement already satisfied: tokenizers<0.15,>=0.14 in /anaconda/envs/learn_to_pick/lib/python3.10/site-packages (from transformers<5.0.0,>=4.6.0->sentence-transformers>=2.2.2->learn-to-pick==0.0.3) (0.14.1)\n",
      "Requirement already satisfied: safetensors>=0.3.1 in /anaconda/envs/learn_to_pick/lib/python3.10/site-packages (from transformers<5.0.0,>=4.6.0->sentence-transformers>=2.2.2->learn-to-pick==0.0.3) (0.4.0)\n",
      "Requirement already satisfied: MarkupSafe>=2.0 in /anaconda/envs/learn_to_pick/lib/python3.10/site-packages (from jinja2->torch->learn-to-pick==0.0.3) (2.1.3)\n",
      "Requirement already satisfied: click in /anaconda/envs/learn_to_pick/lib/python3.10/site-packages (from nltk->sentence-transformers>=2.2.2->learn-to-pick==0.0.3) (8.1.7)\n",
      "Requirement already satisfied: joblib in /anaconda/envs/learn_to_pick/lib/python3.10/site-packages (from nltk->sentence-transformers>=2.2.2->learn-to-pick==0.0.3) (1.3.2)\n",
      "Requirement already satisfied: threadpoolctl>=2.0.0 in /anaconda/envs/learn_to_pick/lib/python3.10/site-packages (from scikit-learn->sentence-transformers>=2.2.2->learn-to-pick==0.0.3) (3.2.0)\n",
      "Requirement already satisfied: mpmath>=0.19 in /anaconda/envs/learn_to_pick/lib/python3.10/site-packages (from sympy->torch->learn-to-pick==0.0.3) (1.3.0)\n",
      "Requirement already satisfied: pillow!=8.3.*,>=5.3.0 in /anaconda/envs/learn_to_pick/lib/python3.10/site-packages (from torchvision->sentence-transformers>=2.2.2->learn-to-pick==0.0.3) (10.1.0)\n",
      "Requirement already satisfied: charset-normalizer<4,>=2 in /anaconda/envs/learn_to_pick/lib/python3.10/site-packages (from requests->huggingface-hub>=0.4.0->sentence-transformers>=2.2.2->learn-to-pick==0.0.3) (3.3.1)\n",
      "Requirement already satisfied: idna<4,>=2.5 in /anaconda/envs/learn_to_pick/lib/python3.10/site-packages (from requests->huggingface-hub>=0.4.0->sentence-transformers>=2.2.2->learn-to-pick==0.0.3) (3.4)\n",
      "Requirement already satisfied: urllib3<3,>=1.21.1 in /anaconda/envs/learn_to_pick/lib/python3.10/site-packages (from requests->huggingface-hub>=0.4.0->sentence-transformers>=2.2.2->learn-to-pick==0.0.3) (2.0.7)\n",
      "Requirement already satisfied: certifi>=2017.4.17 in /anaconda/envs/learn_to_pick/lib/python3.10/site-packages (from requests->huggingface-hub>=0.4.0->sentence-transformers>=2.2.2->learn-to-pick==0.0.3) (2023.7.22)\n",
      "Building wheels for collected packages: learn-to-pick\n",
      "  Building wheel for learn-to-pick (setup.py) ... \u001b[?25ldone\n",
      "\u001b[?25h  Created wheel for learn-to-pick: filename=learn_to_pick-0.0.3-py3-none-any.whl size=31195 sha256=bee6266df7b0bde64de2e58bff8c435340c315aa8fa9cfa3c84751c22a26fab1\n",
      "  Stored in directory: /tmp/pip-ephem-wheel-cache-zigo2ps9/wheels/18/bf/25/d8dda8a9a6b5284eaed510a4708ef9b22b9894a5e94b329ea2\n",
      "Successfully built learn-to-pick\n",
      "Installing collected packages: learn-to-pick\n",
      "  Attempting uninstall: learn-to-pick\n",
      "    Found existing installation: learn-to-pick 0.0.3\n",
      "    Uninstalling learn-to-pick-0.0.3:\n",
      "      Successfully uninstalled learn-to-pick-0.0.3\n",
      "Successfully installed learn-to-pick-0.0.3\n"
     ]
    }
   ],
   "source": [
    "! pip install ../\n",
    "# ! pip install matplotlib"
   ]
  },
  {
   "cell_type": "code",
   "execution_count": 12,
   "metadata": {},
   "outputs": [
    {
     "name": "stdout",
     "output_type": "stream",
     "text": [
      "2.0.1+cu117\n"
     ]
    }
   ],
   "source": [
    "import torch\n",
    "print(torch.__version__)"
   ]
  },
  {
   "cell_type": "markdown",
   "metadata": {},
   "source": [
    "This is an example of a news recommendation system. We have two users `Tom` and `Anna`, and some article topics that we want to recommend to them.\n",
    "\n",
    "The users come to the news site in the moring and in the afternoon and we want to learn what topic to recommend to which user at which time of day.\n",
    "\n",
    "- The action space here are the `article` topics\n",
    "- The criteria/context are the user and the time of day\n",
    "- The score is whether the user liked or didn't like the recommendation (simulated in the `CustomSelectionScorer`)"
   ]
  },
  {
   "cell_type": "code",
   "execution_count": 13,
   "metadata": {},
   "outputs": [],
   "source": [
    "import random\n",
    "\n",
    "users = [\"Tom\", \"Anna\"]\n",
    "times_of_day = [\"morning\", \"afternoon\"]\n",
    "articles = [\"politics\", \"sports\", \"music\", \"food\", \"finance\", \"health\", \"camping\"]\n",
    "\n",
    "def choose_user(users):\n",
    "    return random.choice(users)\n",
    "\n",
    "\n",
    "def choose_time_of_day(times_of_day):\n",
    "    return random.choice(times_of_day)\n"
   ]
  },
  {
   "cell_type": "code",
   "execution_count": 14,
   "metadata": {},
   "outputs": [],
   "source": [
    "import learn_to_pick\n",
    "\n",
    "class CustomSelectionScorer(learn_to_pick.SelectionScorer):\n",
    "    def get_score(self, user, time_of_day, article):\n",
    "        preferences = {\n",
    "            'Tom': {\n",
    "                'morning': 'politics',\n",
    "                'afternoon': 'music'\n",
    "            },\n",
    "            'Anna': {\n",
    "                'morning': 'sports',\n",
    "                'afternoon': 'politics'\n",
    "            }\n",
    "        }\n",
    "\n",
    "        # if the article was the one the user prefered for this time of day, return 1.0\n",
    "        # if it was a different article return 0.0\n",
    "        return int(preferences[user][time_of_day] == article)\n",
    "\n",
    "    def score_response(\n",
    "        self, inputs, picked, event: learn_to_pick.PickBestEvent\n",
    "    ) -> float:\n",
    "        chosen_article = picked[\"article\"]\n",
    "        user = event.based_on[\"user\"]\n",
    "        time_of_day = event.based_on[\"time_of_day\"]\n",
    "        score = self.get_score(user, time_of_day, chosen_article)\n",
    "        return score"
   ]
  },
  {
   "cell_type": "markdown",
   "metadata": {},
   "source": [
    "Initializing two pickers, one with the default decision making policy `picker` and one with a random decision making policy `random_picker`.\n",
    "\n",
    "Both pickers are initialized with the `CustomSelectionScorer` and with `metrics_step` and `metrics_window` in order to keep track of how the score evolves in a rolling window average fashion."
   ]
  },
  {
   "cell_type": "code",
   "execution_count": 15,
   "metadata": {},
   "outputs": [
    {
     "name": "stdout",
     "output_type": "stream",
     "text": [
      "Device: cuda\n"
     ]
    }
   ],
   "source": [
    "from learn_to_pick import PyTorchPolicy\n",
    "\n",
    "pytorch_picker = learn_to_pick.PickBest.create(\n",
    "    metrics_step=100, metrics_window_size=100, policy=PyTorchPolicy(), selection_scorer=CustomSelectionScorer())\n",
    "random_picker = learn_to_pick.PickBest.create(\n",
    "    metrics_step=100, metrics_window_size=100, policy=learn_to_pick.PickBestRandomPolicy(), selection_scorer=CustomSelectionScorer())"
   ]
  },
  {
   "cell_type": "code",
   "execution_count": 16,
   "metadata": {},
   "outputs": [],
   "source": [
    "# randomly pick users and times of day\n",
    "\n",
    "for i in range(2500):\n",
    "    user = choose_user(users)\n",
    "    time_of_day = choose_time_of_day(times_of_day)\n",
    "\n",
    "    random_picker.run(\n",
    "        article = learn_to_pick.ToSelectFrom(articles),\n",
    "        user = learn_to_pick.BasedOn(user),\n",
    "        time_of_day = learn_to_pick.BasedOn(time_of_day),\n",
    "    )\n",
    "\n",
    "    pytorch_picker.run(\n",
    "        article = learn_to_pick.ToSelectFrom(articles),\n",
    "        user = learn_to_pick.BasedOn(user),\n",
    "        time_of_day = learn_to_pick.BasedOn(time_of_day),\n",
    "    )"
   ]
  },
  {
   "cell_type": "markdown",
   "metadata": {},
   "source": [
    "Plot the score evolution for the default picker and the random picker. We should observe the default picker to **learn** to make good suggestions over time."
   ]
  },
  {
   "cell_type": "code",
   "execution_count": 17,
   "metadata": {},
   "outputs": [
    {
     "name": "stdout",
     "output_type": "stream",
     "text": [
      "The final average score for the default policy, calculated over a rolling window, is: 0.93\n",
      "The final average score for the random policy, calculated over a rolling window, is: 0.53\n"
     ]
    },
    {
     "data": {
      "image/png": "[encoded data removed]",
      "text/plain": [
       "<Figure size 640x480 with 1 Axes>"
      ]
     },
     "metadata": {},
     "output_type": "display_data"
    }
   ],
   "source": [
    "from matplotlib import pyplot as plt\n",
    "random_picker.metrics.to_pandas()['score'].plot(label=\"random\")\n",
    "pytorch_picker.metrics.to_pandas()['score'].plot(label=\"pytorch\")\n",
    "\n",
    "plt.legend()\n",
    "\n",
    "print(f\"The final average score for the default policy, calculated over a rolling window, is: {pytorch_picker.metrics.to_pandas()['score'].iloc[-1]}\")\n",
    "print(f\"The final average score for the random policy, calculated over a rolling window, is: {random_picker.metrics.to_pandas()['score'].iloc[-1]}\")\n"
   ]
  }
 ],
 "metadata": {
  "kernelspec": {
   "display_name": ".venv",
   "language": "python",
   "name": "python3"
  },
  "language_info": {
   "codemirror_mode": {
    "name": "ipython",
    "version": 3
   },
   "file_extension": ".py",
   "mimetype": "text/x-python",
   "name": "python",
   "nbconvert_exporter": "python",
   "pygments_lexer": "ipython3",
   "version": "3.10.13"
  }
 },
 "nbformat": 4,
 "nbformat_minor": 2
}
