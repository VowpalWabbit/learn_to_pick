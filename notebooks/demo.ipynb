{
 "cells": [
  {
   "cell_type": "code",
   "execution_count": null,
   "metadata": {},
   "outputs": [],
   "source": [
    "! pip install ../\n",
    "! pip install matplotlib"
   ]
  },
  {
   "cell_type": "code",
   "execution_count": null,
   "metadata": {},
   "outputs": [],
   "source": [
    "import learn_to_pick"
   ]
  },
  {
   "cell_type": "code",
   "execution_count": null,
   "metadata": {},
   "outputs": [],
   "source": [
    "class fake_llm_caller:\n",
    "    def predict(self, message):\n",
    "        return \"5\""
   ]
  },
  {
   "cell_type": "code",
   "execution_count": null,
   "metadata": {},
   "outputs": [],
   "source": [
    "pick = learn_to_pick.PickBest.create(llm=fake_llm_caller(), metrics_step=5, metrics_window_size=5)\n",
    "random_pick = learn_to_pick.PickBest.create(\n",
    "    llm=fake_llm_caller(),\n",
    "    metrics_step=5,\n",
    "    metrics_window_size=5, # rolling window average\n",
    "    policy=learn_to_pick.PickBestRandomPolicy() # set the random policy instead of default\n",
    ")"
   ]
  },
  {
   "cell_type": "code",
   "execution_count": null,
   "metadata": {},
   "outputs": [],
   "source": [
    "# four meals defined, some vegetarian some not\n",
    "\n",
    "meals = [\n",
    "    \"Beef Enchiladas with Feta cheese. Mexican-Greek fusion\",\n",
    "    \"Chicken Flatbreads with red sauce. Italian-Mexican fusion\",\n",
    "    \"Veggie sweet potato quesadillas with vegan cheese\",\n",
    "    \"One-Pan Tortelonni bake with peppers and onions\",\n",
    "]"
   ]
  },
  {
   "cell_type": "code",
   "execution_count": null,
   "metadata": {},
   "outputs": [],
   "source": [
    "# TODO function hook to call LLM between predict and learn?\n",
    "# TODO how to pass extra args to scorer? How to get LLMs response back to user and in scorer?\n",
    "# TODO slates from the get go?\n",
    "for _ in range(100):\n",
    "    r = pick.run(meal = learn_to_pick.ToSelectFrom(meals),\n",
    "        user = learn_to_pick.BasedOn(\"Anna\"),\n",
    "        preference = learn_to_pick.BasedOn([\"Meat eater\", \"loves beef\"]),\n",
    "        text_to_personalize = \"This is the weeks specialty dish, our master chefs \\\n",
    "            believe you will love it!\",)\n",
    "\n",
    "    r = pick.run(meal = learn_to_pick.ToSelectFrom(meals),\n",
    "        user = learn_to_pick.BasedOn(\"Tom\"),\n",
    "        preference = learn_to_pick.BasedOn([\"Vegetarian\", \"regular dairy is ok\"]),\n",
    "        text_to_personalize = \"This is the weeks specialty dish, our master chefs \\\n",
    "            believe you will love it!\",)\n",
    "    \n",
    "    r = random_pick.run(meal = learn_to_pick.ToSelectFrom(meals),\n",
    "        user = learn_to_pick.BasedOn(\"Anna\"),\n",
    "        preference = learn_to_pick.BasedOn([\"Meat eater\", \"loves beef\"]),\n",
    "        text_to_personalize = \"This is the weeks specialty dish, our master chefs \\\n",
    "            believe you will love it!\",)\n",
    "\n",
    "    r = random_pick.run(meal = learn_to_pick.ToSelectFrom(meals),\n",
    "        user = learn_to_pick.BasedOn(\"Tom\"),\n",
    "        preference = learn_to_pick.BasedOn([\"Vegetarian\", \"regular dairy is ok\"]),\n",
    "        text_to_personalize = \"This is the weeks specialty dish, our master chefs \\\n",
    "            believe you will love it!\",)"
   ]
  },
  {
   "cell_type": "code",
   "execution_count": null,
   "metadata": {},
   "outputs": [],
   "source": [
    "from matplotlib import pyplot as plt\n",
    "pick.metrics.to_pandas()['score'].plot(label=\"vw learning policy\")\n",
    "random_pick.metrics.to_pandas()['score'].plot(label=\"random learning policy\")\n",
    "plt.legend()\n",
    "\n",
    "print(f\"VW, calculated over a rolling window, is: {pick.metrics.to_pandas()['score'].iloc[-1]}\")\n",
    "print(f\"Random, calculated over a rolling window, is: {random_pick.metrics.to_pandas()['score'].iloc[-1]}\")"
   ]
  },
  {
   "cell_type": "code",
   "execution_count": null,
   "metadata": {},
   "outputs": [],
   "source": [
    "print(r[\"picked_metadata\"].selected.score)\n",
    "print(r[\"picked\"])\n",
    "print(r[\"picked_metadata\"].to_select_from)"
   ]
  },
  {
   "cell_type": "code",
   "execution_count": null,
   "metadata": {},
   "outputs": [],
   "source": [
    "# ! pip install langchain"
   ]
  },
  {
   "cell_type": "code",
   "execution_count": null,
   "metadata": {},
   "outputs": [],
   "source": [
    "# Example of setting own AutoSelectionScorer that might call an LLM to get a score\n",
    "from langchain.prompts.prompt import PromptTemplate\n",
    "import langchain\n",
    "langchain.debug = True\n",
    "\n",
    "REWARD_PROMPT_TEMPLATE = \"\"\"\n",
    "\n",
    "Given {preference} rank how good or bad this selection is {meal}\n",
    "\n",
    "{llm_response}\n",
    "\n",
    "IMPORANT: you MUST return a single number between -1 and 1, -1 being bad, 1 being good\n",
    "\n",
    "\"\"\"\n",
    "\n",
    "\n",
    "REWARD_PROMPT = PromptTemplate(\n",
    "    input_variables=[\"preference\", \"meal\", \"llm_response\"],\n",
    "    template=REWARD_PROMPT_TEMPLATE,\n",
    ")\n",
    "\n",
    "def set_llm_response(inputs, event):\n",
    "    print(\"hello world\")\n",
    "    # could call an LLM here to get the llm_response that will be plugged into the prompt template above\n",
    "    inputs[\"llm_response\"] = \"5\"\n",
    "    return inputs, event\n",
    "\n",
    "chain = learn_to_pick.PickBest.create(\n",
    "    callbacks_before_scoring = [set_llm_response],\n",
    "    selection_scorer=learn_to_pick.AutoSelectionScorer(llm=fake_llm_caller(), prompt=REWARD_PROMPT),\n",
    ")\n",
    "\n",
    "r = chain.run(\n",
    "    meal = learn_to_pick.ToSelectFrom(meals),\n",
    "    user = learn_to_pick.BasedOn(\"Tom\"),\n",
    "    preference = learn_to_pick.BasedOn([\"Vegetarian\", \"regular dairy is ok\"]),\n",
    "    text_to_personalize = \"This is the weeks specialty dish, our master chefs believe you will love it!\",\n",
    ")"
   ]
  },
  {
   "cell_type": "code",
   "execution_count": null,
   "metadata": {},
   "outputs": [],
   "source": [
    "r['picked_metadata'].outputs"
   ]
  },
  {
   "cell_type": "code",
   "execution_count": null,
   "metadata": {},
   "outputs": [],
   "source": []
  }
 ],
 "metadata": {
  "kernelspec": {
   "display_name": ".venv",
   "language": "python",
   "name": "python3"
  },
  "language_info": {
   "codemirror_mode": {
    "name": "ipython",
    "version": 3
   },
   "file_extension": ".py",
   "mimetype": "text/x-python",
   "name": "python",
   "nbconvert_exporter": "python",
   "pygments_lexer": "ipython3",
   "version": "3.10.11"
  }
 },
 "nbformat": 4,
 "nbformat_minor": 2
}
