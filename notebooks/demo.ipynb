{
 "cells": [
  {
   "cell_type": "code",
   "execution_count": null,
   "metadata": {},
   "outputs": [],
   "source": [
    "! pip install ../\n",
    "! pip install matplotlib"
   ]
  },
  {
   "cell_type": "code",
   "execution_count": null,
   "metadata": {},
   "outputs": [],
   "source": [
    "import learn_to_pick"
   ]
  },
  {
   "cell_type": "code",
   "execution_count": null,
   "metadata": {},
   "outputs": [],
   "source": [
    "class fake_llm_caller:\n",
    "    def predict(self, message):\n",
    "        return \"5\""
   ]
  },
  {
   "cell_type": "code",
   "execution_count": null,
   "metadata": {},
   "outputs": [],
   "source": [
    "pick = learn_to_pick.PickBest.create(llm=fake_llm_caller(), metrics_step=5, metrics_window_size=5)\n",
    "random_pick = learn_to_pick.PickBest.create(\n",
    "    llm=fake_llm_caller(),\n",
    "    metrics_step=5,\n",
    "    metrics_window_size=5, # rolling window average\n",
    "    policy=learn_to_pick.PickBestRandomPolicy # set the random policy instead of default\n",
    ")"
   ]
  },
  {
   "cell_type": "code",
   "execution_count": null,
   "metadata": {},
   "outputs": [],
   "source": [
    "# four meals defined, some vegetarian some not\n",
    "\n",
    "meals = [\n",
    "    \"Beef Enchiladas with Feta cheese. Mexican-Greek fusion\",\n",
    "    \"Chicken Flatbreads with red sauce. Italian-Mexican fusion\",\n",
    "    \"Veggie sweet potato quesadillas with vegan cheese\",\n",
    "    \"One-Pan Tortelonni bake with peppers and onions\",\n",
    "]"
   ]
  },
  {
   "cell_type": "code",
   "execution_count": null,
   "metadata": {},
   "outputs": [],
   "source": [
    "# TODO function hook to call LLM between predict and learn?\n",
    "# TODO how to pass extra args to scorer? How to get LLMs response back to user and in scorer?\n",
    "# TODO slates from the get go?\n",
    "for _ in range(100):\n",
    "    r = pick.run(meal = learn_to_pick.ToSelectFrom(meals),\n",
    "        user = learn_to_pick.BasedOn(\"Anna\"),\n",
    "        preference = learn_to_pick.BasedOn([\"Meat eater\", \"loves beef\"]),\n",
    "        text_to_personalize = \"This is the weeks specialty dish, our master chefs \\\n",
    "            believe you will love it!\",)\n",
    "\n",
    "    r = pick.run(meal = learn_to_pick.ToSelectFrom(meals),\n",
    "        user = learn_to_pick.BasedOn(\"Tom\"),\n",
    "        preference = learn_to_pick.BasedOn([\"Vegetarian\", \"regular dairy is ok\"]),\n",
    "        text_to_personalize = \"This is the weeks specialty dish, our master chefs \\\n",
    "            believe you will love it!\",)\n",
    "    \n",
    "    r = random_pick.run(meal = learn_to_pick.ToSelectFrom(meals),\n",
    "        user = learn_to_pick.BasedOn(\"Anna\"),\n",
    "        preference = learn_to_pick.BasedOn([\"Meat eater\", \"loves beef\"]),\n",
    "        text_to_personalize = \"This is the weeks specialty dish, our master chefs \\\n",
    "            believe you will love it!\",)\n",
    "\n",
    "    r = random_pick.run(meal = learn_to_pick.ToSelectFrom(meals),\n",
    "        user = learn_to_pick.BasedOn(\"Tom\"),\n",
    "        preference = learn_to_pick.BasedOn([\"Vegetarian\", \"regular dairy is ok\"]),\n",
    "        text_to_personalize = \"This is the weeks specialty dish, our master chefs \\\n",
    "            believe you will love it!\",)"
   ]
  },
  {
   "cell_type": "code",
   "execution_count": null,
   "metadata": {},
   "outputs": [],
   "source": [
    "from matplotlib import pyplot as plt\n",
    "pick.metrics.to_pandas()['score'].plot(label=\"vw learning policy\")\n",
    "random_pick.metrics.to_pandas()['score'].plot(label=\"random learning policy\")\n",
    "plt.legend()\n",
    "\n",
    "print(f\"VW, calculated over a rolling window, is: {pick.metrics.to_pandas()['score'].iloc[-1]}\")\n",
    "print(f\"Random, calculated over a rolling window, is: {random_pick.metrics.to_pandas()['score'].iloc[-1]}\")"
   ]
  },
  {
   "cell_type": "code",
   "execution_count": null,
   "metadata": {},
   "outputs": [],
   "source": [
    "print(r[\"picked_metadata\"].selected.score)\n",
    "print(r[\"picked\"])\n",
    "print(r[\"picked_metadata\"].to_select_from)"
   ]
  }
 ],
 "metadata": {
  "kernelspec": {
   "display_name": ".venv",
   "language": "python",
   "name": "python3"
  },
  "language_info": {
   "codemirror_mode": {
    "name": "ipython",
    "version": 3
   },
   "file_extension": ".py",
   "mimetype": "text/x-python",
   "name": "python",
   "nbconvert_exporter": "python",
   "pygments_lexer": "ipython3",
   "version": "3.9.5"
  }
 },
 "nbformat": 4,
 "nbformat_minor": 2
}
